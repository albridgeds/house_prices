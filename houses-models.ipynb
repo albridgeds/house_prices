{
 "cells": [
  {
   "cell_type": "code",
   "execution_count": 53,
   "id": "freelance-breath",
   "metadata": {},
   "outputs": [],
   "source": [
    "import pandas as pd\n",
    "import numpy as np\n",
    "import matplotlib.pyplot as plt\n",
    "import lightgbm as lgb\n",
    "\n",
    "from sklearn.model_selection import train_test_split, GridSearchCV\n",
    "from sklearn.linear_model import LinearRegression, Lasso, Ridge\n",
    "from sklearn.dummy import DummyRegressor\n",
    "from sklearn.tree import DecisionTreeRegressor\n",
    "from sklearn.ensemble import RandomForestRegressor"
   ]
  },
  {
   "cell_type": "code",
   "execution_count": 54,
   "id": "working-republic",
   "metadata": {},
   "outputs": [],
   "source": [
    "import sys  \n",
    "sys.path.insert(0, 'C:\\\\Users\\\\albri\\\\Jupiter Workspace')\n",
    "import albridge_lib as alb"
   ]
  },
  {
   "cell_type": "code",
   "execution_count": 55,
   "id": "statistical-barrel",
   "metadata": {},
   "outputs": [],
   "source": [
    "pd.options.display.expand_frame_repr = False\n",
    "pd.set_option('display.max_columns', None)"
   ]
  },
  {
   "cell_type": "markdown",
   "id": "quality-idaho",
   "metadata": {},
   "source": [
    "### Data download"
   ]
  },
  {
   "cell_type": "code",
   "execution_count": 56,
   "id": "indoor-allowance",
   "metadata": {},
   "outputs": [
    {
     "data": {
      "text/plain": [
       "((1460, 230), (1460,))"
      ]
     },
     "execution_count": 56,
     "metadata": {},
     "output_type": "execute_result"
    }
   ],
   "source": [
    "X_train_ohe = pd.read_csv('train_ohe.csv', index_col='Id')\n",
    "y_train = train_ohe['SalePrice']\n",
    "X_train_ohe.drop('SalePrice', axis=1, inplace=True)\n",
    "X_train_ohe.shape, y_train.shape"
   ]
  },
  {
   "cell_type": "code",
   "execution_count": 57,
   "id": "featured-semiconductor",
   "metadata": {},
   "outputs": [
    {
     "data": {
      "text/plain": [
       "(1459, 230)"
      ]
     },
     "execution_count": 57,
     "metadata": {},
     "output_type": "execute_result"
    }
   ],
   "source": [
    "X_test_ohe = pd.read_csv('test_ohe.csv', index_col='Id')\n",
    "X_test_ohe.shape"
   ]
  },
  {
   "cell_type": "code",
   "execution_count": 58,
   "id": "roman-meter",
   "metadata": {},
   "outputs": [
    {
     "data": {
      "text/plain": [
       "((1460, 78), (1460,))"
      ]
     },
     "execution_count": 58,
     "metadata": {},
     "output_type": "execute_result"
    }
   ],
   "source": [
    "X_train_ord = pd.read_csv('train_ord.csv', index_col='Id')\n",
    "X_train_ord.drop('SalePrice', axis=1, inplace=True)\n",
    "X_train_ord.shape, y_train.shape"
   ]
  },
  {
   "cell_type": "code",
   "execution_count": 59,
   "id": "cognitive-representation",
   "metadata": {},
   "outputs": [
    {
     "data": {
      "text/plain": [
       "(1459, 78)"
      ]
     },
     "execution_count": 59,
     "metadata": {},
     "output_type": "execute_result"
    }
   ],
   "source": [
    "X_test_ord = pd.read_csv('test_ord.csv', index_col='Id')\n",
    "X_test_ord.shape"
   ]
  },
  {
   "cell_type": "code",
   "execution_count": 32,
   "id": "equivalent-willow",
   "metadata": {},
   "outputs": [
    {
     "data": {
      "text/plain": [
       "['cat_MSSubClass',\n",
       " 'cat_MSZoning',\n",
       " 'cat_Alley',\n",
       " 'cat_LandContour',\n",
       " 'cat_LotConfig',\n",
       " 'cat_Neighborhood',\n",
       " 'cat_Condition1',\n",
       " 'cat_Condition2',\n",
       " 'cat_BldgType',\n",
       " 'cat_HouseStyle',\n",
       " 'cat_RoofStyle',\n",
       " 'cat_RoofMatl',\n",
       " 'cat_Exterior1st',\n",
       " 'cat_Exterior2nd',\n",
       " 'cat_MasVnrType',\n",
       " 'cat_Foundation',\n",
       " 'cat_Heating',\n",
       " 'cat_CentralAir',\n",
       " 'cat_Electrical',\n",
       " 'cat_GarageType',\n",
       " 'cat_GarageFinish',\n",
       " 'cat_Fence',\n",
       " 'cat_MiscFeature',\n",
       " 'cat_MoSold',\n",
       " 'cat_SaleType',\n",
       " 'cat_SaleCondition']"
      ]
     },
     "execution_count": 32,
     "metadata": {},
     "output_type": "execute_result"
    }
   ],
   "source": [
    "cat_cols = []\n",
    "for c in X_train_ord:\n",
    "    if c[:4]=='cat_':\n",
    "        cat_cols.append(c)\n",
    "cat_cols"
   ]
  },
  {
   "cell_type": "markdown",
   "id": "intelligent-testimony",
   "metadata": {},
   "source": [
    "### Linear models"
   ]
  },
  {
   "cell_type": "code",
   "execution_count": 33,
   "id": "twelve-cement",
   "metadata": {},
   "outputs": [
    {
     "name": "stdout",
     "output_type": "stream",
     "text": [
      "Fitting 5 folds for each of 1 candidates, totalling 5 fits\n"
     ]
    },
    {
     "name": "stderr",
     "output_type": "stream",
     "text": [
      "[Parallel(n_jobs=-1)]: Using backend LokyBackend with 4 concurrent workers.\n",
      "[Parallel(n_jobs=-1)]: Done   2 out of   5 | elapsed:    1.6s remaining:    2.5s\n",
      "[Parallel(n_jobs=-1)]: Done   3 out of   5 | elapsed:    1.7s remaining:    1.1s\n"
     ]
    },
    {
     "name": "stdout",
     "output_type": "stream",
     "text": [
      "Best valid score: 0.178 (0.047)\n",
      "Train score:      0.093 (0.004)\n"
     ]
    },
    {
     "name": "stderr",
     "output_type": "stream",
     "text": [
      "[Parallel(n_jobs=-1)]: Done   5 out of   5 | elapsed:    2.5s remaining:    0.0s\n",
      "[Parallel(n_jobs=-1)]: Done   5 out of   5 | elapsed:    2.5s finished\n"
     ]
    }
   ],
   "source": [
    "model = LinearRegression()\n",
    "res = alb.sklearn_gridCV(model, X_train_ohe, y_train, 'neg_root_mean_squared_error', fit_train=True, cv=5)"
   ]
  },
  {
   "cell_type": "code",
   "execution_count": 34,
   "id": "legislative-membrane",
   "metadata": {},
   "outputs": [
    {
     "name": "stderr",
     "output_type": "stream",
     "text": [
      "[Parallel(n_jobs=-1)]: Using backend LokyBackend with 4 concurrent workers.\n"
     ]
    },
    {
     "name": "stdout",
     "output_type": "stream",
     "text": [
      "Fitting 5 folds for each of 6 candidates, totalling 30 fits\n"
     ]
    },
    {
     "name": "stderr",
     "output_type": "stream",
     "text": [
      "[Parallel(n_jobs=-1)]: Done   5 tasks      | elapsed:    0.4s\n",
      "[Parallel(n_jobs=-1)]: Done  10 tasks      | elapsed:    0.6s\n",
      "[Parallel(n_jobs=-1)]: Done  17 tasks      | elapsed:    0.8s\n",
      "[Parallel(n_jobs=-1)]: Done  27 out of  30 | elapsed:    0.9s remaining:    0.0s\n",
      "[Parallel(n_jobs=-1)]: Done  30 out of  30 | elapsed:    0.9s finished\n"
     ]
    },
    {
     "data": {
      "image/png": "[encoded data removed]",
      "text/plain": [
       "<Figure size 720x288 with 1 Axes>"
      ]
     },
     "metadata": {
      "needs_background": "light"
     },
     "output_type": "display_data"
    },
    {
     "name": "stdout",
     "output_type": "stream",
     "text": [
      "Best valid score: 0.139 (0.026)\n",
      "Train score:      0.121 (0.005)\n",
      "Best params: {'alpha': 0.001}\n"
     ]
    },
    {
     "data": {
      "text/html": [
       "<div>\n",
       "<style scoped>\n",
       "    .dataframe tbody tr th:only-of-type {\n",
       "        vertical-align: middle;\n",
       "    }\n",
       "\n",
       "    .dataframe tbody tr th {\n",
       "        vertical-align: top;\n",
       "    }\n",
       "\n",
       "    .dataframe thead th {\n",
       "        text-align: right;\n",
       "    }\n",
       "</style>\n",
       "<table border=\"1\" class=\"dataframe\">\n",
       "  <thead>\n",
       "    <tr style=\"text-align: right;\">\n",
       "      <th></th>\n",
       "      <th>cv score</th>\n",
       "      <th>cv std</th>\n",
       "      <th>time</th>\n",
       "      <th>train score</th>\n",
       "      <th>train std</th>\n",
       "    </tr>\n",
       "  </thead>\n",
       "  <tbody>\n",
       "    <tr>\n",
       "      <th>{'alpha': 0.0001}</th>\n",
       "      <td>0.151</td>\n",
       "      <td>0.021</td>\n",
       "      <td>0.286</td>\n",
       "      <td>0.100</td>\n",
       "      <td>0.003</td>\n",
       "    </tr>\n",
       "    <tr>\n",
       "      <th>{'alpha': 0.001}</th>\n",
       "      <td>0.139</td>\n",
       "      <td>0.026</td>\n",
       "      <td>0.063</td>\n",
       "      <td>0.121</td>\n",
       "      <td>0.005</td>\n",
       "    </tr>\n",
       "    <tr>\n",
       "      <th>{'alpha': 0.01}</th>\n",
       "      <td>0.156</td>\n",
       "      <td>0.031</td>\n",
       "      <td>0.020</td>\n",
       "      <td>0.147</td>\n",
       "      <td>0.006</td>\n",
       "    </tr>\n",
       "    <tr>\n",
       "      <th>{'alpha': 0.1}</th>\n",
       "      <td>0.189</td>\n",
       "      <td>0.036</td>\n",
       "      <td>0.136</td>\n",
       "      <td>0.181</td>\n",
       "      <td>0.009</td>\n",
       "    </tr>\n",
       "    <tr>\n",
       "      <th>{'alpha': 1}</th>\n",
       "      <td>0.198</td>\n",
       "      <td>0.036</td>\n",
       "      <td>0.038</td>\n",
       "      <td>0.192</td>\n",
       "      <td>0.008</td>\n",
       "    </tr>\n",
       "    <tr>\n",
       "      <th>{'alpha': 10}</th>\n",
       "      <td>0.236</td>\n",
       "      <td>0.031</td>\n",
       "      <td>0.016</td>\n",
       "      <td>0.232</td>\n",
       "      <td>0.009</td>\n",
       "    </tr>\n",
       "  </tbody>\n",
       "</table>\n",
       "</div>"
      ],
      "text/plain": [
       "                   cv score  cv std   time  train score  train std\n",
       "{'alpha': 0.0001}     0.151   0.021  0.286        0.100      0.003\n",
       "{'alpha': 0.001}      0.139   0.026  0.063        0.121      0.005\n",
       "{'alpha': 0.01}       0.156   0.031  0.020        0.147      0.006\n",
       "{'alpha': 0.1}        0.189   0.036  0.136        0.181      0.009\n",
       "{'alpha': 1}          0.198   0.036  0.038        0.192      0.008\n",
       "{'alpha': 10}         0.236   0.031  0.016        0.232      0.009"
      ]
     },
     "execution_count": 34,
     "metadata": {},
     "output_type": "execute_result"
    }
   ],
   "source": [
    "model = Lasso()\n",
    "params = {'alpha': [0.0001, 0.001, 0.01, 0.1, 1, 10]}\n",
    "alb.sklearn_gridCV(model, X_train_ohe, y_train, 'neg_root_mean_squared_error', params, fit_train=True)"
   ]
  },
  {
   "cell_type": "code",
   "execution_count": 35,
   "id": "twenty-handling",
   "metadata": {},
   "outputs": [
    {
     "name": "stdout",
     "output_type": "stream",
     "text": [
      "Fitting 5 folds for each of 4 candidates, totalling 20 fits\n"
     ]
    },
    {
     "name": "stderr",
     "output_type": "stream",
     "text": [
      "[Parallel(n_jobs=-1)]: Using backend LokyBackend with 4 concurrent workers.\n",
      "[Parallel(n_jobs=-1)]: Batch computation too fast (0.0380s.) Setting batch_size=2.\n",
      "[Parallel(n_jobs=-1)]: Done   5 tasks      | elapsed:    0.0s\n",
      "[Parallel(n_jobs=-1)]: Batch computation too fast (0.1219s.) Setting batch_size=4.\n",
      "[Parallel(n_jobs=-1)]: Done  20 out of  20 | elapsed:    0.1s finished\n"
     ]
    },
    {
     "data": {
      "image/png": "[encoded data removed]",
      "text/plain": [
       "<Figure size 720x288 with 1 Axes>"
      ]
     },
     "metadata": {
      "needs_background": "light"
     },
     "output_type": "display_data"
    },
    {
     "name": "stdout",
     "output_type": "stream",
     "text": [
      "Best valid score: 0.139 (0.023)\n",
      "Train score:      0.113 (0.004)\n",
      "Best params: {'alpha': 10}\n"
     ]
    }
   ],
   "source": [
    "model = Ridge()\n",
    "params = {'alpha': [0.1, 1, 10, 100]}\n",
    "res = alb.sklearn_gridCV(model, X_train_ohe, y_train, 'neg_root_mean_squared_error', params, fit_train=True)"
   ]
  },
  {
   "cell_type": "markdown",
   "id": "ignored-hudson",
   "metadata": {},
   "source": [
    "### Random Forest"
   ]
  },
  {
   "cell_type": "code",
   "execution_count": 36,
   "id": "armed-exhibit",
   "metadata": {},
   "outputs": [
    {
     "name": "stdout",
     "output_type": "stream",
     "text": [
      "Fitting 5 folds for each of 14 candidates, totalling 70 fits\n"
     ]
    },
    {
     "name": "stderr",
     "output_type": "stream",
     "text": [
      "[Parallel(n_jobs=-1)]: Using backend LokyBackend with 4 concurrent workers.\n",
      "[Parallel(n_jobs=-1)]: Done   5 tasks      | elapsed:    0.5s\n",
      "[Parallel(n_jobs=-1)]: Done  10 tasks      | elapsed:    1.0s\n",
      "[Parallel(n_jobs=-1)]: Done  17 tasks      | elapsed:    2.0s\n",
      "[Parallel(n_jobs=-1)]: Done  24 tasks      | elapsed:    3.0s\n",
      "[Parallel(n_jobs=-1)]: Done  33 tasks      | elapsed:    5.0s\n",
      "[Parallel(n_jobs=-1)]: Done  42 tasks      | elapsed:    7.5s\n",
      "[Parallel(n_jobs=-1)]: Done  53 tasks      | elapsed:   11.2s\n",
      "[Parallel(n_jobs=-1)]: Done  70 out of  70 | elapsed:   17.6s finished\n"
     ]
    },
    {
     "data": {
      "image/png": "[encoded data removed]",
      "text/plain": [
       "<Figure size 720x288 with 1 Axes>"
      ]
     },
     "metadata": {
      "needs_background": "light"
     },
     "output_type": "display_data"
    },
    {
     "name": "stdout",
     "output_type": "stream",
     "text": [
      "Best valid score: 0.140 (0.008)\n",
      "Train score:      0.055 (0.002)\n",
      "Best params: {'max_depth': 13}\n"
     ]
    },
    {
     "data": {
      "text/html": [
       "<div>\n",
       "<style scoped>\n",
       "    .dataframe tbody tr th:only-of-type {\n",
       "        vertical-align: middle;\n",
       "    }\n",
       "\n",
       "    .dataframe tbody tr th {\n",
       "        vertical-align: top;\n",
       "    }\n",
       "\n",
       "    .dataframe thead th {\n",
       "        text-align: right;\n",
       "    }\n",
       "</style>\n",
       "<table border=\"1\" class=\"dataframe\">\n",
       "  <thead>\n",
       "    <tr style=\"text-align: right;\">\n",
       "      <th></th>\n",
       "      <th>cv score</th>\n",
       "      <th>cv std</th>\n",
       "      <th>time</th>\n",
       "      <th>train score</th>\n",
       "      <th>train std</th>\n",
       "    </tr>\n",
       "  </thead>\n",
       "  <tbody>\n",
       "    <tr>\n",
       "      <th>{'max_depth': 1}</th>\n",
       "      <td>0.293</td>\n",
       "      <td>0.008</td>\n",
       "      <td>0.245</td>\n",
       "      <td>0.293</td>\n",
       "      <td>0.002</td>\n",
       "    </tr>\n",
       "    <tr>\n",
       "      <th>{'max_depth': 2}</th>\n",
       "      <td>0.233</td>\n",
       "      <td>0.007</td>\n",
       "      <td>0.336</td>\n",
       "      <td>0.228</td>\n",
       "      <td>0.003</td>\n",
       "    </tr>\n",
       "    <tr>\n",
       "      <th>{'max_depth': 3}</th>\n",
       "      <td>0.195</td>\n",
       "      <td>0.006</td>\n",
       "      <td>0.442</td>\n",
       "      <td>0.182</td>\n",
       "      <td>0.002</td>\n",
       "    </tr>\n",
       "    <tr>\n",
       "      <th>{'max_depth': 4}</th>\n",
       "      <td>0.174</td>\n",
       "      <td>0.006</td>\n",
       "      <td>0.556</td>\n",
       "      <td>0.151</td>\n",
       "      <td>0.002</td>\n",
       "    </tr>\n",
       "    <tr>\n",
       "      <th>{'max_depth': 5}</th>\n",
       "      <td>0.160</td>\n",
       "      <td>0.008</td>\n",
       "      <td>0.652</td>\n",
       "      <td>0.125</td>\n",
       "      <td>0.001</td>\n",
       "    </tr>\n",
       "    <tr>\n",
       "      <th>{'max_depth': 6}</th>\n",
       "      <td>0.153</td>\n",
       "      <td>0.007</td>\n",
       "      <td>0.772</td>\n",
       "      <td>0.104</td>\n",
       "      <td>0.001</td>\n",
       "    </tr>\n",
       "    <tr>\n",
       "      <th>{'max_depth': 7}</th>\n",
       "      <td>0.148</td>\n",
       "      <td>0.008</td>\n",
       "      <td>0.836</td>\n",
       "      <td>0.087</td>\n",
       "      <td>0.001</td>\n",
       "    </tr>\n",
       "    <tr>\n",
       "      <th>{'max_depth': 8}</th>\n",
       "      <td>0.145</td>\n",
       "      <td>0.008</td>\n",
       "      <td>0.982</td>\n",
       "      <td>0.075</td>\n",
       "      <td>0.001</td>\n",
       "    </tr>\n",
       "    <tr>\n",
       "      <th>{'max_depth': 9}</th>\n",
       "      <td>0.143</td>\n",
       "      <td>0.009</td>\n",
       "      <td>1.097</td>\n",
       "      <td>0.066</td>\n",
       "      <td>0.001</td>\n",
       "    </tr>\n",
       "    <tr>\n",
       "      <th>{'max_depth': 10}</th>\n",
       "      <td>0.142</td>\n",
       "      <td>0.007</td>\n",
       "      <td>1.193</td>\n",
       "      <td>0.061</td>\n",
       "      <td>0.001</td>\n",
       "    </tr>\n",
       "    <tr>\n",
       "      <th>{'max_depth': 11}</th>\n",
       "      <td>0.143</td>\n",
       "      <td>0.009</td>\n",
       "      <td>1.415</td>\n",
       "      <td>0.057</td>\n",
       "      <td>0.001</td>\n",
       "    </tr>\n",
       "    <tr>\n",
       "      <th>{'max_depth': 12}</th>\n",
       "      <td>0.141</td>\n",
       "      <td>0.008</td>\n",
       "      <td>1.414</td>\n",
       "      <td>0.055</td>\n",
       "      <td>0.001</td>\n",
       "    </tr>\n",
       "    <tr>\n",
       "      <th>{'max_depth': 13}</th>\n",
       "      <td>0.140</td>\n",
       "      <td>0.008</td>\n",
       "      <td>1.447</td>\n",
       "      <td>0.055</td>\n",
       "      <td>0.002</td>\n",
       "    </tr>\n",
       "    <tr>\n",
       "      <th>{'max_depth': 14}</th>\n",
       "      <td>0.142</td>\n",
       "      <td>0.009</td>\n",
       "      <td>1.442</td>\n",
       "      <td>0.054</td>\n",
       "      <td>0.001</td>\n",
       "    </tr>\n",
       "  </tbody>\n",
       "</table>\n",
       "</div>"
      ],
      "text/plain": [
       "                   cv score  cv std   time  train score  train std\n",
       "{'max_depth': 1}      0.293   0.008  0.245        0.293      0.002\n",
       "{'max_depth': 2}      0.233   0.007  0.336        0.228      0.003\n",
       "{'max_depth': 3}      0.195   0.006  0.442        0.182      0.002\n",
       "{'max_depth': 4}      0.174   0.006  0.556        0.151      0.002\n",
       "{'max_depth': 5}      0.160   0.008  0.652        0.125      0.001\n",
       "{'max_depth': 6}      0.153   0.007  0.772        0.104      0.001\n",
       "{'max_depth': 7}      0.148   0.008  0.836        0.087      0.001\n",
       "{'max_depth': 8}      0.145   0.008  0.982        0.075      0.001\n",
       "{'max_depth': 9}      0.143   0.009  1.097        0.066      0.001\n",
       "{'max_depth': 10}     0.142   0.007  1.193        0.061      0.001\n",
       "{'max_depth': 11}     0.143   0.009  1.415        0.057      0.001\n",
       "{'max_depth': 12}     0.141   0.008  1.414        0.055      0.001\n",
       "{'max_depth': 13}     0.140   0.008  1.447        0.055      0.002\n",
       "{'max_depth': 14}     0.142   0.009  1.442        0.054      0.001"
      ]
     },
     "execution_count": 36,
     "metadata": {},
     "output_type": "execute_result"
    }
   ],
   "source": [
    "rf = RandomForestRegressor()\n",
    "params = {'max_depth': range(1,15)}\n",
    "alb.sklearn_gridCV(rf, X_train_ord, y_train, 'neg_root_mean_squared_error', params, fit_train=True)"
   ]
  },
  {
   "cell_type": "code",
   "execution_count": 37,
   "id": "naval-logan",
   "metadata": {},
   "outputs": [
    {
     "name": "stdout",
     "output_type": "stream",
     "text": [
      "Fitting 5 folds for each of 10 candidates, totalling 50 fits\n"
     ]
    },
    {
     "name": "stderr",
     "output_type": "stream",
     "text": [
      "[Parallel(n_jobs=-1)]: Using backend LokyBackend with 4 concurrent workers.\n",
      "[Parallel(n_jobs=-1)]: Done   5 tasks      | elapsed:    0.8s\n",
      "[Parallel(n_jobs=-1)]: Done  10 tasks      | elapsed:    1.5s\n",
      "[Parallel(n_jobs=-1)]: Done  17 tasks      | elapsed:    2.8s\n",
      "[Parallel(n_jobs=-1)]: Done  24 tasks      | elapsed:    4.2s\n",
      "[Parallel(n_jobs=-1)]: Done  33 tasks      | elapsed:    6.8s\n",
      "[Parallel(n_jobs=-1)]: Done  42 tasks      | elapsed:    9.9s\n",
      "[Parallel(n_jobs=-1)]: Done  50 out of  50 | elapsed:   12.9s finished\n"
     ]
    },
    {
     "data": {
      "image/png": "[encoded data removed]",
      "text/plain": [
       "<Figure size 720x288 with 1 Axes>"
      ]
     },
     "metadata": {
      "needs_background": "light"
     },
     "output_type": "display_data"
    },
    {
     "name": "stdout",
     "output_type": "stream",
     "text": [
      "Best valid score: 0.137 (0.009)\n",
      "Train score:      0.053 (0.001)\n",
      "Best params: {'max_features': 0.5}\n"
     ]
    },
    {
     "data": {
      "text/html": [
       "<div>\n",
       "<style scoped>\n",
       "    .dataframe tbody tr th:only-of-type {\n",
       "        vertical-align: middle;\n",
       "    }\n",
       "\n",
       "    .dataframe tbody tr th {\n",
       "        vertical-align: top;\n",
       "    }\n",
       "\n",
       "    .dataframe thead th {\n",
       "        text-align: right;\n",
       "    }\n",
       "</style>\n",
       "<table border=\"1\" class=\"dataframe\">\n",
       "  <thead>\n",
       "    <tr style=\"text-align: right;\">\n",
       "      <th></th>\n",
       "      <th>cv score</th>\n",
       "      <th>cv std</th>\n",
       "      <th>time</th>\n",
       "      <th>train score</th>\n",
       "      <th>train std</th>\n",
       "    </tr>\n",
       "  </thead>\n",
       "  <tbody>\n",
       "    <tr>\n",
       "      <th>{'max_features': 0.1}</th>\n",
       "      <td>0.141</td>\n",
       "      <td>0.010</td>\n",
       "      <td>0.367</td>\n",
       "      <td>0.053</td>\n",
       "      <td>0.001</td>\n",
       "    </tr>\n",
       "    <tr>\n",
       "      <th>{'max_features': 0.2}</th>\n",
       "      <td>0.138</td>\n",
       "      <td>0.010</td>\n",
       "      <td>0.489</td>\n",
       "      <td>0.052</td>\n",
       "      <td>0.001</td>\n",
       "    </tr>\n",
       "    <tr>\n",
       "      <th>{'max_features': 0.30000000000000004}</th>\n",
       "      <td>0.137</td>\n",
       "      <td>0.009</td>\n",
       "      <td>0.632</td>\n",
       "      <td>0.052</td>\n",
       "      <td>0.001</td>\n",
       "    </tr>\n",
       "    <tr>\n",
       "      <th>{'max_features': 0.4}</th>\n",
       "      <td>0.137</td>\n",
       "      <td>0.010</td>\n",
       "      <td>0.744</td>\n",
       "      <td>0.052</td>\n",
       "      <td>0.001</td>\n",
       "    </tr>\n",
       "    <tr>\n",
       "      <th>{'max_features': 0.5}</th>\n",
       "      <td>0.137</td>\n",
       "      <td>0.009</td>\n",
       "      <td>0.847</td>\n",
       "      <td>0.053</td>\n",
       "      <td>0.001</td>\n",
       "    </tr>\n",
       "    <tr>\n",
       "      <th>{'max_features': 0.6}</th>\n",
       "      <td>0.138</td>\n",
       "      <td>0.009</td>\n",
       "      <td>0.990</td>\n",
       "      <td>0.052</td>\n",
       "      <td>0.001</td>\n",
       "    </tr>\n",
       "    <tr>\n",
       "      <th>{'max_features': 0.7000000000000001}</th>\n",
       "      <td>0.138</td>\n",
       "      <td>0.009</td>\n",
       "      <td>1.083</td>\n",
       "      <td>0.052</td>\n",
       "      <td>0.001</td>\n",
       "    </tr>\n",
       "    <tr>\n",
       "      <th>{'max_features': 0.8}</th>\n",
       "      <td>0.139</td>\n",
       "      <td>0.010</td>\n",
       "      <td>1.254</td>\n",
       "      <td>0.053</td>\n",
       "      <td>0.001</td>\n",
       "    </tr>\n",
       "    <tr>\n",
       "      <th>{'max_features': 0.9}</th>\n",
       "      <td>0.141</td>\n",
       "      <td>0.008</td>\n",
       "      <td>1.385</td>\n",
       "      <td>0.053</td>\n",
       "      <td>0.001</td>\n",
       "    </tr>\n",
       "    <tr>\n",
       "      <th>{'max_features': 1.0}</th>\n",
       "      <td>0.141</td>\n",
       "      <td>0.009</td>\n",
       "      <td>1.449</td>\n",
       "      <td>0.053</td>\n",
       "      <td>0.001</td>\n",
       "    </tr>\n",
       "  </tbody>\n",
       "</table>\n",
       "</div>"
      ],
      "text/plain": [
       "                                       cv score  cv std   time  train score  train std\n",
       "{'max_features': 0.1}                     0.141   0.010  0.367        0.053      0.001\n",
       "{'max_features': 0.2}                     0.138   0.010  0.489        0.052      0.001\n",
       "{'max_features': 0.30000000000000004}     0.137   0.009  0.632        0.052      0.001\n",
       "{'max_features': 0.4}                     0.137   0.010  0.744        0.052      0.001\n",
       "{'max_features': 0.5}                     0.137   0.009  0.847        0.053      0.001\n",
       "{'max_features': 0.6}                     0.138   0.009  0.990        0.052      0.001\n",
       "{'max_features': 0.7000000000000001}      0.138   0.009  1.083        0.052      0.001\n",
       "{'max_features': 0.8}                     0.139   0.010  1.254        0.053      0.001\n",
       "{'max_features': 0.9}                     0.141   0.008  1.385        0.053      0.001\n",
       "{'max_features': 1.0}                     0.141   0.009  1.449        0.053      0.001"
      ]
     },
     "execution_count": 37,
     "metadata": {},
     "output_type": "execute_result"
    }
   ],
   "source": [
    "rf = RandomForestRegressor()\n",
    "params = {'max_features': np.arange(0.1,1.01,0.1)}\n",
    "alb.sklearn_gridCV(rf, X_train_ord, y_train, 'neg_root_mean_squared_error', params, fit_train=True)"
   ]
  },
  {
   "cell_type": "code",
   "execution_count": 38,
   "id": "plain-hazard",
   "metadata": {},
   "outputs": [
    {
     "name": "stdout",
     "output_type": "stream",
     "text": [
      "Fitting 5 folds for each of 6 candidates, totalling 30 fits\n"
     ]
    },
    {
     "name": "stderr",
     "output_type": "stream",
     "text": [
      "[Parallel(n_jobs=-1)]: Using backend LokyBackend with 4 concurrent workers.\n",
      "[Parallel(n_jobs=-1)]: Batch computation too fast (0.0969s.) Setting batch_size=2.\n",
      "[Parallel(n_jobs=-1)]: Done   5 tasks      | elapsed:    0.1s\n",
      "[Parallel(n_jobs=-1)]: Done  12 tasks      | elapsed:    2.1s\n",
      "[Parallel(n_jobs=-1)]: Batch computation too slow (2.1192s.) Setting batch_size=1.\n",
      "[Parallel(n_jobs=-1)]: Done  23 out of  30 | elapsed:    9.6s remaining:    2.9s\n",
      "[Parallel(n_jobs=-1)]: Done  27 out of  30 | elapsed:   15.3s remaining:    1.6s\n",
      "[Parallel(n_jobs=-1)]: Done  30 out of  30 | elapsed:   19.8s finished\n"
     ]
    },
    {
     "data": {
      "image/png": "[encoded data removed]",
      "text/plain": [
       "<Figure size 720x288 with 1 Axes>"
      ]
     },
     "metadata": {
      "needs_background": "light"
     },
     "output_type": "display_data"
    },
    {
     "name": "stdout",
     "output_type": "stream",
     "text": [
      "Best valid score: 0.136 (0.009)\n",
      "Train score:      0.051 (0.001)\n",
      "Best params: {'n_estimators': 1000}\n"
     ]
    },
    {
     "data": {
      "text/html": [
       "<div>\n",
       "<style scoped>\n",
       "    .dataframe tbody tr th:only-of-type {\n",
       "        vertical-align: middle;\n",
       "    }\n",
       "\n",
       "    .dataframe tbody tr th {\n",
       "        vertical-align: top;\n",
       "    }\n",
       "\n",
       "    .dataframe thead th {\n",
       "        text-align: right;\n",
       "    }\n",
       "</style>\n",
       "<table border=\"1\" class=\"dataframe\">\n",
       "  <thead>\n",
       "    <tr style=\"text-align: right;\">\n",
       "      <th></th>\n",
       "      <th>cv score</th>\n",
       "      <th>cv std</th>\n",
       "      <th>time</th>\n",
       "      <th>train score</th>\n",
       "      <th>train std</th>\n",
       "    </tr>\n",
       "  </thead>\n",
       "  <tbody>\n",
       "    <tr>\n",
       "      <th>{'n_estimators': 10}</th>\n",
       "      <td>0.147</td>\n",
       "      <td>0.013</td>\n",
       "      <td>0.081</td>\n",
       "      <td>0.067</td>\n",
       "      <td>0.001</td>\n",
       "    </tr>\n",
       "    <tr>\n",
       "      <th>{'n_estimators': 50}</th>\n",
       "      <td>0.138</td>\n",
       "      <td>0.008</td>\n",
       "      <td>0.401</td>\n",
       "      <td>0.052</td>\n",
       "      <td>0.001</td>\n",
       "    </tr>\n",
       "    <tr>\n",
       "      <th>{'n_estimators': 100}</th>\n",
       "      <td>0.137</td>\n",
       "      <td>0.008</td>\n",
       "      <td>0.756</td>\n",
       "      <td>0.052</td>\n",
       "      <td>0.001</td>\n",
       "    </tr>\n",
       "    <tr>\n",
       "      <th>{'n_estimators': 200}</th>\n",
       "      <td>0.136</td>\n",
       "      <td>0.009</td>\n",
       "      <td>1.425</td>\n",
       "      <td>0.051</td>\n",
       "      <td>0.001</td>\n",
       "    </tr>\n",
       "    <tr>\n",
       "      <th>{'n_estimators': 500}</th>\n",
       "      <td>0.136</td>\n",
       "      <td>0.009</td>\n",
       "      <td>3.569</td>\n",
       "      <td>0.051</td>\n",
       "      <td>0.001</td>\n",
       "    </tr>\n",
       "    <tr>\n",
       "      <th>{'n_estimators': 1000}</th>\n",
       "      <td>0.136</td>\n",
       "      <td>0.009</td>\n",
       "      <td>7.033</td>\n",
       "      <td>0.051</td>\n",
       "      <td>0.001</td>\n",
       "    </tr>\n",
       "  </tbody>\n",
       "</table>\n",
       "</div>"
      ],
      "text/plain": [
       "                        cv score  cv std   time  train score  train std\n",
       "{'n_estimators': 10}       0.147   0.013  0.081        0.067      0.001\n",
       "{'n_estimators': 50}       0.138   0.008  0.401        0.052      0.001\n",
       "{'n_estimators': 100}      0.137   0.008  0.756        0.052      0.001\n",
       "{'n_estimators': 200}      0.136   0.009  1.425        0.051      0.001\n",
       "{'n_estimators': 500}      0.136   0.009  3.569        0.051      0.001\n",
       "{'n_estimators': 1000}     0.136   0.009  7.033        0.051      0.001"
      ]
     },
     "execution_count": 38,
     "metadata": {},
     "output_type": "execute_result"
    }
   ],
   "source": [
    "rf = RandomForestRegressor(max_features=0.4)\n",
    "params = {'n_estimators': [10,50,100,200,500,1000]}\n",
    "alb.sklearn_gridCV(rf, X_train_ord, y_train, 'neg_root_mean_squared_error', params, fit_train=True)"
   ]
  },
  {
   "cell_type": "markdown",
   "id": "featured-right",
   "metadata": {},
   "source": [
    "### Gradient Boosting"
   ]
  },
  {
   "cell_type": "code",
   "execution_count": 40,
   "id": "favorite-ladder",
   "metadata": {},
   "outputs": [
    {
     "data": {
      "text/plain": [
       "<lightgbm.basic.Dataset at 0x199ddac2700>"
      ]
     },
     "execution_count": 40,
     "metadata": {},
     "output_type": "execute_result"
    }
   ],
   "source": [
    "lgb_train = lgb.Dataset(X_train_ord, label=y_train, free_raw_data=False, silent=True, categorical_feature=cat_cols)\n",
    "lgb_train.construct()"
   ]
  },
  {
   "cell_type": "code",
   "execution_count": 41,
   "id": "veterinary-bibliography",
   "metadata": {},
   "outputs": [
    {
     "name": "stdout",
     "output_type": "stream",
     "text": [
      "[100]\tcv_agg's rmse: 0.12898 + 0.00757785\n",
      "Best res: 0.12889\n",
      "Best iteration: 86\n",
      "Last res: 0.12889\n",
      "Wall time: 5.33 s\n"
     ]
    },
    {
     "data": {
      "image/png": "[encoded data removed]",
      "text/plain": [
       "<Figure size 432x288 with 1 Axes>"
      ]
     },
     "metadata": {
      "needs_background": "light"
     },
     "output_type": "display_data"
    }
   ],
   "source": [
    "%%time\n",
    "params = {'n_jobs': -1, 'verbose': -1, 'objective': 'regression'}\n",
    "alb.lgb_cv(lgb_train, 'rmse', 1000, params, cat_cols=cat_cols)"
   ]
  },
  {
   "cell_type": "code",
   "execution_count": 42,
   "id": "chinese-pixel",
   "metadata": {},
   "outputs": [
    {
     "name": "stdout",
     "output_type": "stream",
     "text": [
      "params={'max_depth': 2, 'num_leaves': 5}  res=0.125690  iter=303\n",
      "params={'max_depth': 2, 'num_leaves': 10}  res=0.125690  iter=303\n",
      "params={'max_depth': 2, 'num_leaves': 15}  res=0.125690  iter=303\n",
      "params={'max_depth': 3, 'num_leaves': 5}  res=0.126380  iter=298\n",
      "params={'max_depth': 3, 'num_leaves': 10}  res=0.125760  iter=184\n",
      "params={'max_depth': 3, 'num_leaves': 15}  res=0.125760  iter=184\n",
      "params={'max_depth': 4, 'num_leaves': 5}  res=0.125680  iter=214\n",
      "params={'max_depth': 4, 'num_leaves': 10}  res=0.126830  iter=251\n",
      "params={'max_depth': 4, 'num_leaves': 15}  res=0.127190  iter=168\n",
      "params={'max_depth': 5, 'num_leaves': 5}  res=0.125680  iter=214\n",
      "params={'max_depth': 5, 'num_leaves': 10}  res=0.127810  iter=88\n",
      "params={'max_depth': 5, 'num_leaves': 15}  res=0.125970  iter=145\n",
      "params={'max_depth': 6, 'num_leaves': 5}  res=0.125680  iter=214\n",
      "params={'max_depth': 6, 'num_leaves': 10}  res=0.126730  iter=141\n",
      "params={'max_depth': 6, 'num_leaves': 15}  res=0.127680  iter=123\n",
      "params={'max_depth': 7, 'num_leaves': 5}  res=0.125680  iter=214\n",
      "params={'max_depth': 7, 'num_leaves': 10}  res=0.127900  iter=99\n",
      "params={'max_depth': 7, 'num_leaves': 15}  res=0.127830  iter=115\n",
      "params={'max_depth': 8, 'num_leaves': 5}  res=0.125680  iter=214\n",
      "params={'max_depth': 8, 'num_leaves': 10}  res=0.127820  iter=159\n",
      "params={'max_depth': 8, 'num_leaves': 15}  res=0.127980  iter=104\n",
      "params={'max_depth': 9, 'num_leaves': 5}  res=0.125680  iter=214\n",
      "params={'max_depth': 9, 'num_leaves': 10}  res=0.127270  iter=246\n",
      "params={'max_depth': 9, 'num_leaves': 15}  res=0.127790  iter=86\n"
     ]
    },
    {
     "data": {
      "image/png": "[encoded data removed]",
      "text/plain": [
       "<Figure size 576x216 with 2 Axes>"
      ]
     },
     "metadata": {
      "needs_background": "light"
     },
     "output_type": "display_data"
    },
    {
     "name": "stdout",
     "output_type": "stream",
     "text": [
      "Best cv score: 0.12568\n",
      "Best params: {'max_depth': 4, 'num_leaves': 5}\n",
      "Best iteration: 214\n",
      "Wall time: 58.6 s\n"
     ]
    }
   ],
   "source": [
    "%%time\n",
    "model_params = {'n_jobs': -1, 'verbose': -1, 'objective': 'regression'}\n",
    "grid_params = {'num_leaves': range(5,20,5), 'max_depth': range(2,10)}\n",
    "cvb = alb.lgb_gridCV(lgb_train, 'rmse', N=1000, model_params=model_params, grid_params=grid_params, cat_cols=cat_cols)"
   ]
  },
  {
   "cell_type": "code",
   "execution_count": 34,
   "id": "configured-embassy",
   "metadata": {},
   "outputs": [
    {
     "name": "stdout",
     "output_type": "stream",
     "text": [
      "params={'feature_fraction': 0.1}  res=0.126050  iter=346\n",
      "params={'feature_fraction': 0.2}  res=0.125980  iter=429\n",
      "params={'feature_fraction': 0.30000000000000004}  res=0.126140  iter=174\n",
      "params={'feature_fraction': 0.4}  res=0.125640  iter=192\n",
      "params={'feature_fraction': 0.5}  res=0.125710  iter=281\n",
      "params={'feature_fraction': 0.6}  res=0.126780  iter=245\n",
      "params={'feature_fraction': 0.7000000000000001}  res=0.124780  iter=319\n",
      "params={'feature_fraction': 0.8}  res=0.124600  iter=247\n",
      "params={'feature_fraction': 0.9}  res=0.125410  iter=230\n",
      "params={'feature_fraction': 1.0}  res=0.125680  iter=214\n"
     ]
    },
    {
     "data": {
      "image/png": "[encoded data removed]",
      "text/plain": [
       "<Figure size 720x288 with 1 Axes>"
      ]
     },
     "metadata": {
      "needs_background": "light"
     },
     "output_type": "display_data"
    },
    {
     "name": "stdout",
     "output_type": "stream",
     "text": [
      "Best cv score: 0.1246\n",
      "Best params: {'feature_fraction': 0.8}\n",
      "Best iteration: 247\n",
      "Wall time: 24.1 s\n"
     ]
    }
   ],
   "source": [
    "%%time\n",
    "model_params = {'n_jobs': -1, 'verbose': -1, 'max_depth': 4, 'num_leaves': 5}\n",
    "grid_params = {'feature_fraction': np.arange(0.1, 1.01, 0.1)}\n",
    "cvb = alb.lgb_gridCV(lgb_train, 'rmse', N=1000, model_params=model_params, grid_params=grid_params, cat_cols=cat_cols)"
   ]
  },
  {
   "cell_type": "code",
   "execution_count": 108,
   "id": "subtle-israeli",
   "metadata": {},
   "outputs": [
    {
     "name": "stdout",
     "output_type": "stream",
     "text": [
      "params={'lambda_l1': 0.0001}  res=0.131830  iter=499\n",
      "params={'lambda_l1': 0.001}  res=0.131880  iter=504\n",
      "params={'lambda_l1': 0.01}  res=0.131880  iter=629\n",
      "params={'lambda_l1': 0.1}  res=0.132270  iter=425\n",
      "params={'lambda_l1': 1}  res=0.134050  iter=501\n",
      "params={'lambda_l1': 10}  res=0.162490  iter=673\n"
     ]
    },
    {
     "data": {
      "image/png": "[encoded data removed]",
      "text/plain": [
       "<Figure size 720x288 with 1 Axes>"
      ]
     },
     "metadata": {
      "needs_background": "light"
     },
     "output_type": "display_data"
    },
    {
     "name": "stdout",
     "output_type": "stream",
     "text": [
      "Best cv score: 0.13183\n",
      "Best params: {'lambda_l1': 0.0001}\n",
      "Best iteration: 499\n",
      "Wall time: 16.3 s\n"
     ]
    }
   ],
   "source": [
    "%%time\n",
    "model_params = {'n_jobs': -1, 'verbose': -1, 'max_depth': 4, 'num_leaves': 5, 'feature_fraction': 0.8}\n",
    "grid_params = {'lambda_l1': [0.0001, 0.001, 0.01, 0.1, 1, 10]}\n",
    "cvb = alb.lgb_gridCV(lgb_train, 'rmse', N=1000, model_params=model_params, grid_params=grid_params, cat_cols=cat_cols)"
   ]
  },
  {
   "cell_type": "code",
   "execution_count": 35,
   "id": "aquatic-image",
   "metadata": {},
   "outputs": [
    {
     "name": "stdout",
     "output_type": "stream",
     "text": [
      "params={'lambda_l2': 0.0001}  res=0.124600  iter=247\n",
      "params={'lambda_l2': 0.001}  res=0.124600  iter=247\n",
      "params={'lambda_l2': 0.01}  res=0.124030  iter=253\n",
      "params={'lambda_l2': 0.1}  res=0.123990  iter=274\n",
      "params={'lambda_l2': 1}  res=0.125110  iter=204\n",
      "params={'lambda_l2': 10}  res=0.126960  iter=230\n",
      "params={'lambda_l2': 100}  res=0.126710  iter=628\n"
     ]
    },
    {
     "data": {
      "image/png": "[encoded data removed]",
      "text/plain": [
       "<Figure size 720x288 with 1 Axes>"
      ]
     },
     "metadata": {
      "needs_background": "light"
     },
     "output_type": "display_data"
    },
    {
     "name": "stdout",
     "output_type": "stream",
     "text": [
      "Best cv score: 0.12399\n",
      "Best params: {'lambda_l2': 0.1}\n",
      "Best iteration: 274\n",
      "Wall time: 17.3 s\n"
     ]
    }
   ],
   "source": [
    "%%time\n",
    "model_params = {'n_jobs': -1, 'verbose': -1, 'max_depth': 4, 'num_leaves': 5, 'feature_fraction': 0.8}\n",
    "grid_params = {'lambda_l2': [0.0001, 0.001, 0.01, 0.1, 1, 10, 100]}\n",
    "cvb = alb.lgb_gridCV(lgb_train, 'rmse', N=1000, model_params=model_params, grid_params=grid_params, cat_cols=cat_cols)"
   ]
  },
  {
   "cell_type": "markdown",
   "id": "announced-subsection",
   "metadata": {},
   "source": [
    "### Test prediction"
   ]
  },
  {
   "cell_type": "code",
   "execution_count": 47,
   "id": "lined-outreach",
   "metadata": {},
   "outputs": [],
   "source": [
    "def make_submission(pred_test, ind):\n",
    "    '''for i in range(len(pred_test)):\n",
    "        if pred_test[i]<0:\n",
    "            pred_test[i]=0'''\n",
    "    my_submission = pd.DataFrame({'Id': ind, 'SalePrice': np.expm1(pred_test)})\n",
    "    my_submission.to_csv('submission.csv',index=False)"
   ]
  },
  {
   "cell_type": "code",
   "execution_count": 48,
   "id": "consistent-cheat",
   "metadata": {},
   "outputs": [],
   "source": [
    "model = Ridge(alpha=10)\n",
    "model.fit(X_train_ohe, y_train)\n",
    "pred_test = model.predict(X_test_ohe)\n",
    "make_submission(pred_test, X_test_ohe.index)"
   ]
  },
  {
   "cell_type": "code",
   "execution_count": 52,
   "id": "healthy-stage",
   "metadata": {},
   "outputs": [],
   "source": [
    "params = {'n_jobs': -1, \n",
    "          'verbose': -1, \n",
    "          'num_leaves': 5,\n",
    "          'max_depth': 4, \n",
    "          'feature_fraction': 0.8,\n",
    "          'lambda_l2': 0.1\n",
    "         }\n",
    "\n",
    "model = lgb.train(params, lgb_train, 400, categorical_feature=cat_cols)\n",
    "pred_test = model.predict(X_test_ord)\n",
    "make_submission(pred_test, X_test_ord.index)"
   ]
  }
 ],
 "metadata": {
  "kernelspec": {
   "display_name": "Python 3 (ipykernel)",
   "language": "python",
   "name": "python3"
  },
  "language_info": {
   "codemirror_mode": {
    "name": "ipython",
    "version": 3
   },
   "file_extension": ".py",
   "mimetype": "text/x-python",
   "name": "python",
   "nbconvert_exporter": "python",
   "pygments_lexer": "ipython3",
   "version": "3.9.7"
  }
 },
 "nbformat": 4,
 "nbformat_minor": 5
}
